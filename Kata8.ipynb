{
 "cells": [
  {
   "cell_type": "markdown",
   "metadata": {},
   "source": [
    "# Kata #8\n",
    "### Launch x\n",
    "### Hugo Sanchez "
   ]
  },
  {
   "cell_type": "markdown",
   "metadata": {},
   "source": [
    "### Ejercicio 1: Creación de diccionarios de Python"
   ]
  },
  {
   "cell_type": "code",
   "execution_count": null,
   "metadata": {},
   "outputs": [],
   "source": [
    "##EJERICICO 1\n",
    "# Crea un diccionario llamado planet con los datos propuestos\n",
    "\n",
    "planet = {\n",
    "    \"name\" : \"mars\",\n",
    "    \"moons\" : 2\n",
    "}\n",
    "\n",
    "# Muestra el nombre del planeta y el número de lunas que tiene.\n",
    "print(f'The name of planet is {planet[\"name\"]} and have {planet[\"moons\"]} moons')\n",
    "\n",
    "# Agrega la clave circunferencia con los datos proporcionados previamente\n",
    "planet['circumference'] = {\n",
    "    \"polar\": 6752,\n",
    "    \"equatorial\": 6792\n",
    "}\n",
    "\n",
    "# Imprime el nombre del planeta con su circunferencia polar.\n",
    "print(f'The name of planet is {planet[\"name\"]} and has  a circunference polar {planet[\"circumference\"][\"polar\"]}')\n",
    "\n"
   ]
  },
  {
   "cell_type": "markdown",
   "metadata": {},
   "source": [
    "### Ejercicio 2: Programación dinámica con diccionarios"
   ]
  },
  {
   "cell_type": "code",
   "execution_count": 8,
   "metadata": {},
   "outputs": [
    {
     "name": "stdout",
     "output_type": "stream",
     "text": [
      "17.833333333333332\n"
     ]
    }
   ],
   "source": [
    "## EJERCICIO 2\n",
    "# Planets and moons\n",
    "planet_moons = {\n",
    "    'mercury': 0,\n",
    "    'venus': 0,\n",
    "    'earth': 1,\n",
    "    'mars': 2,\n",
    "    'jupiter': 79,\n",
    "    'saturn': 82,\n",
    "    'uranus': 27,\n",
    "    'neptune': 14,\n",
    "    'pluto': 5,\n",
    "    'haumea': 2,\n",
    "    'makemake': 1,\n",
    "    'eris': 1\n",
    "}\n",
    "\n",
    "# Añade el código para determinar el número de lunas.\n",
    "moons = planet_moons.values()\n",
    "planets = len(planet_moons)\n",
    "\n",
    "total_moons = 0;\n",
    "\n",
    "# Calcula el total_moons agregando todas las lunas\n",
    "# Almacena su valor en una variable llamada total_moons\n",
    "\n",
    "for moon in moons:\n",
    "    total_moons += moon\n",
    "\n",
    "# Calcula el promedio dividiendo el total_moons por el número de planetas\n",
    "average = total_moons / planets\n",
    "\n",
    "# Muestra el promedio\n",
    "print(average)\n"
   ]
  }
 ],
 "metadata": {
  "interpreter": {
   "hash": "a771533aacded47b4b7e33dff5e8e1f3178b5fb35bae6d4349c6352bfa1abeba"
  },
  "kernelspec": {
   "display_name": "Python 3.10.2 64-bit",
   "language": "python",
   "name": "python3"
  },
  "language_info": {
   "codemirror_mode": {
    "name": "ipython",
    "version": 3
   },
   "file_extension": ".py",
   "mimetype": "text/x-python",
   "name": "python",
   "nbconvert_exporter": "python",
   "pygments_lexer": "ipython3",
   "version": "3.10.2"
  },
  "orig_nbformat": 4
 },
 "nbformat": 4,
 "nbformat_minor": 2
}
