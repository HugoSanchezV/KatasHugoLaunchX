{
 "cells": [
  {
   "cell_type": "markdown",
   "metadata": {},
   "source": [
    "# Kata #8\n",
    "### Launch x\n",
    "### Hugo Sanchez "
   ]
  },
  {
   "cell_type": "markdown",
   "metadata": {},
   "source": [
    "### Ejercicio 1: Trabajar con argumentos en funciones"
   ]
  },
  {
   "cell_type": "code",
   "execution_count": null,
   "metadata": {},
   "outputs": [],
   "source": [
    "# Función para leer 3 tanques de combustible y muestre el promedio\n",
    "\n",
    "def reporte(tanque1, tanque2, tanque3):\n",
    "    total_average = (tanque1+ tanque2 + tanque3) / 3\n",
    "    return f\"\"\"promedio = {total_average}\n",
    "     tanque n1 = {tanque1}\n",
    "     tanque n2 = {tanque2}\n",
    "     tanque n3 = {tanque3}\"\"\"\n",
    "\n",
    "print(reporte(80, 70, 85))\n",
    "\n",
    "def promedio(tanque1, tanque2, tanque3):\n",
    "    return (tanque1+ tanque2 + tanque3) / 3 \n",
    "\n",
    "# Función promedio \n",
    "print(f\"promedio = {promedio(80, 70, 85)}\")\n",
    "\n",
    "## combinacion de las dos funciones anteriores\n",
    "def reporte_actualiazdo(tanque1, tanque2, tanque3):\n",
    "    \n",
    "    return f\"\"\"promedio = {promedio( tanque1, tanque2, tanque3)}\n",
    "     tanque n1 = {tanque1}\n",
    "     tanque n2 = {tanque2}\n",
    "     tanque n3 = {tanque3}\"\"\"\n",
    "\n",
    "print(reporte_actualiazdo(80, 70, 85))"
   ]
  },
  {
   "cell_type": "markdown",
   "metadata": {},
   "source": [
    "### Ejercicio 2: Trabajo con argumentos de palabra clave"
   ]
  },
  {
   "cell_type": "code",
   "execution_count": null,
   "metadata": {},
   "outputs": [],
   "source": [
    "# Función con un informe preciso de la misión. Considera hora de prelanzamiento, tiempo de vuelo, destino, tanque externo y tanque interno\n",
    "def informe(preanzamiento, tiempo_de_vuelo, destino, tanque_externo, tanque_interno):\n",
    "    return f\"\"\" Hora de preelamzamiento {preanzamiento}\n",
    "    tiempo de vueo : {tiempo_de_vuelo} min.\n",
    "    destino : {destino }\n",
    "    tanque externo : {tanque_externo} L.\n",
    "    tanque interno : {tanque_interno} L. \"\"\"\n",
    "\n",
    "print(informe( \"2:00 a.m.\", 70, \"Marte\", 45, 34))\n",
    "\n",
    "# Escribe tu nueva función de reporte considerando lo anterior\n",
    "def informe1(preanzamiento, destino, *minutes, **fuel_reservoirs):\n",
    "    return f\"\"\" Hora de preelamzamiento {preanzamiento}\n",
    "    tiempo de vueo : {sum(minutes)} min.\n",
    "    destino : {destino }\n",
    "    tanque(total)  : {sum(fuel_reservoirs.values())} L.\"\"\"\n",
    "\n",
    "print(informe1(\"2:00 a.m.\", \"Mars\", 10, 15, 51, main=300000, external=200000))\n",
    "\n",
    "# Debido a que el combustible que queda en los tanques es específico de cada -\n",
    "# tanque, actualiza la función para usar el nombre de cada tanque en el informe:\n",
    "# Escribe tu nueva función\n",
    "\n",
    "def informe2(preanzamiento, destino, *minutes, **fuel_reservoirs):\n",
    "    return f\"\"\" Hora de preelamzamiento {preanzamiento}\n",
    "    tiempo de vueo : {sum(minutes)} min.\n",
    "    destino : {destino }\n",
    "    tanque(total)  : {fuel_reservoirs} L.\"\"\"\n",
    "\n",
    "print(informe2(\"2:00 a.m.\", \"Mars\", 8, 11, 55, main=300000, external=200000))\n"
   ]
  }
 ],
 "metadata": {
  "interpreter": {
   "hash": "a771533aacded47b4b7e33dff5e8e1f3178b5fb35bae6d4349c6352bfa1abeba"
  },
  "kernelspec": {
   "display_name": "Python 3.10.2 64-bit",
   "language": "python",
   "name": "python3"
  },
  "language_info": {
   "codemirror_mode": {
    "name": "ipython",
    "version": 3
   },
   "file_extension": ".py",
   "mimetype": "text/x-python",
   "name": "python",
   "nbconvert_exporter": "python",
   "pygments_lexer": "ipython3",
   "version": "3.10.2"
  },
  "orig_nbformat": 4
 },
 "nbformat": 4,
 "nbformat_minor": 2
}
