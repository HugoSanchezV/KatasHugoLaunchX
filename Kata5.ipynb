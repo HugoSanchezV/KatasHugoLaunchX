{
 "cells": [
  {
   "cell_type": "markdown",
   "metadata": {},
   "source": [
    "# Kata #5\n",
    "### Launch x\n",
    "### Hugo Sancchez "
   ]
  },
  {
   "cell_type": "markdown",
   "metadata": {},
   "source": [
    "### Ejercicio1 - Utilizar operadores aritméticos"
   ]
  },
  {
   "cell_type": "code",
   "execution_count": 3,
   "metadata": {},
   "outputs": [
    {
     "name": "stdout",
     "output_type": "stream",
     "text": [
      "la dstancia es de 628949330 km\n",
      "la distancia en millas es de 390577534 millas\n"
     ]
    }
   ],
   "source": [
    "# Crear variables para almacenar las dos distancias\n",
    "# ¡Asegúrate de quitar las comas!\n",
    "\n",
    "plante_tierra = 149597870\n",
    "plante_jupiter = 778547200\n",
    "\n",
    "# Calcular la distancia entre planetas\n",
    "\n",
    "distancia = plante_jupiter - plante_tierra\n",
    "distancia_millas = round(distancia * 0.621)\n",
    "\n",
    "\n",
    "print(f\"la dstancia es de {distancia} kilometros\")\n",
    "print(f\"la distancia en millas es de {distancia_millas} millas\")"
   ]
  },
  {
   "cell_type": "markdown",
   "metadata": {},
   "source": [
    "### Ejercicio 2: convierte cadenas en números y usa valores absolutos"
   ]
  },
  {
   "cell_type": "code",
   "execution_count": 4,
   "metadata": {},
   "outputs": [
    {
     "name": "stdout",
     "output_type": "stream",
     "text": [
      "La distancia en kilonmretos es de 4443525 kilmetros\n",
      "La distancia en millas de 2759429.025 millas\n"
     ]
    }
   ],
   "source": [
    "# Almacenar las entradas del usuario\n",
    "# Convierte las cadenas de ambos planetas a números enteros\n",
    "\n",
    "planeta_1 = int(input(\"dime la distancia al sol del primer planeta\"))\n",
    "planeta_2 = int(input(\"dime la distancia al sol del segundo planeta\"))\n",
    "\n",
    "distancia = planeta_2 - planeta_1\n",
    "\n",
    "print(f\"La distancia en kilonmretos es de {distancia} kilmetros\")\n",
    "print(f\"La distancia en millas de {round(distancia*0.621)} millas\")"
   ]
  }
 ],
 "metadata": {
  "interpreter": {
   "hash": "a771533aacded47b4b7e33dff5e8e1f3178b5fb35bae6d4349c6352bfa1abeba"
  },
  "kernelspec": {
   "display_name": "Python 3.10.2 64-bit",
   "language": "python",
   "name": "python3"
  },
  "language_info": {
   "codemirror_mode": {
    "name": "ipython",
    "version": 3
   },
   "file_extension": ".py",
   "mimetype": "text/x-python",
   "name": "python",
   "nbconvert_exporter": "python",
   "pygments_lexer": "ipython3",
   "version": "3.10.2"
  },
  "orig_nbformat": 4
 },
 "nbformat": 4,
 "nbformat_minor": 2
}
