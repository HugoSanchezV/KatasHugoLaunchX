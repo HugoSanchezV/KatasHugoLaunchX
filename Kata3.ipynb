{
 "cells": [
  {
   "cell_type": "markdown",
   "metadata": {},
   "source": [
    "# Kata #3\n",
    "### Launch X\n",
    "### Hugo Sanchez  \n",
    "#### Ejercicio - Escribir declaraciones if, else, y elif"
   ]
  },
  {
   "cell_type": "code",
   "execution_count": null,
   "metadata": {},
   "outputs": [],
   "source": [
    "# Añadir el código necesario para crear una variable que guarde la velocidad del asteroide.\n",
    "# Escribe una expresión de prueba para calcular si necesita una advertencia.\n",
    "# Agregue las instrucciones que se ejecutarán si la expresión de prueba es true o false.\n",
    "\n",
    "size_asteroide = 49\n",
    "\n",
    "if size_asteroide > 25:\n",
    "    print(\"SOS!! un asteroide se acerca a la tierra\")\n",
    "else: \n",
    "    print(\"Todo bien, todo correcto\")"
   ]
  },
  {
   "cell_type": "code",
   "execution_count": 5,
   "metadata": {},
   "outputs": [
    {
     "name": "stdout",
     "output_type": "stream",
     "text": [
      "Cuidao' hay algo en el cielo\n"
     ]
    }
   ],
   "source": [
    "# Agrega el código para crear una variable para un asteroide que viaja a 19 km/s\n",
    "# Escribe varias expresiones de prueba para determinar si puedes ver el rayo de luz desde la tierra\n",
    "# Agrega las instrucciones que se ejecutarán si las expresiones de prueba son True o False\n",
    "\n",
    "speed_asteroide = 19\n",
    "\n",
    "if speed_asteroide >= 20:\n",
    "    print(\"Que hermoso cielo\") \n",
    "else:\n",
    "    print(\"nada de nada, mejor ponte a estudiar\")"
   ]
  },
  {
   "cell_type": "code",
   "execution_count": 6,
   "metadata": {},
   "outputs": [
    {
     "name": "stdout",
     "output_type": "stream",
     "text": [
      "Pongase a estudiar, shamo\n"
     ]
    }
   ],
   "source": [
    "# Agrega el código para crear nuevas variables para la velocidad y el tamaño del asteroide\n",
    "# Para probar el código, prueba con varias velocidades y tamaños\n",
    "# Escribe varias expresiones de prueba o combinaciones de expresiones de prueba para determinar qué mensaje se debe enviar a Tierra.\n",
    "\n",
    "size_asteroide = 49\n",
    "speed_asteroide = 19\n",
    "\n",
    "if size_asteroide > 25 and speed_asteroide >= 20:\n",
    "    print(\"Hay un asteroide muy peligroso acercamdose\")\n",
    "elif speed_asteroide >= 20:\n",
    "    print(\"Que hermoso cielo\")\n",
    "else:\n",
    "    print(\"Pongase a estudiar, shamo\")"
   ]
  }
 ],
 "metadata": {
  "interpreter": {
   "hash": "a771533aacded47b4b7e33dff5e8e1f3178b5fb35bae6d4349c6352bfa1abeba"
  },
  "kernelspec": {
   "display_name": "Python 3.10.2 64-bit",
   "language": "python",
   "name": "python3"
  },
  "language_info": {
   "codemirror_mode": {
    "name": "ipython",
    "version": 3
   },
   "file_extension": ".py",
   "mimetype": "text/x-python",
   "name": "python",
   "nbconvert_exporter": "python",
   "pygments_lexer": "ipython3",
   "version": "3.10.2"
  },
  "orig_nbformat": 4
 },
 "nbformat": 4,
 "nbformat_minor": 2
}
